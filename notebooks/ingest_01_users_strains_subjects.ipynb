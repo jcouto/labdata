{
 "cells": [
  {
   "cell_type": "code",
   "execution_count": null,
   "id": "6cca9035-7475-4742-b0a7-b20e88a343d0",
   "metadata": {},
   "outputs": [],
   "source": [
    "from labdata.schema import * # import the database schemas"
   ]
  },
  {
   "cell_type": "markdown",
   "id": "4d8b8dc8-2b79-4839-93d6-218d536ca100",
   "metadata": {},
   "source": [
    "#### Insert for lab members\n",
    "This needs to be updated for each new lab member, users should be added to the database by connecting with mysql and adding the correct priviledges, this is just for tagging datasets. It is used to keep track of animal sessions and training, notes.."
   ]
  },
  {
   "cell_type": "code",
   "execution_count": null,
   "id": "f380885f-158b-4806-bfe4-75ad7832a89c",
   "metadata": {},
   "outputs": [],
   "source": [
    "# define lab members\n",
    "labmembers = [dict(user_name='couto',\n",
    "                   email='jpcouto@gmail.com',\n",
    "                   first_name='Joao',\n",
    "                   last_name = 'Couto',\n",
    "                   date_joined = '2020-01-06',  # YYYY-MM-DD format\n",
    "                   is_active=True),\n",
    "             ]\n",
    "# insert\n",
    "LabMember().insert(labmembers,skip_duplicates=True)\n",
    "# show lab members\n",
    "LabMember()"
   ]
  },
  {
   "cell_type": "markdown",
   "id": "5552518c-5a95-4721-ad2c-9c92affa8caf",
   "metadata": {},
   "source": [
    "### Insert animal strains and species\n",
    "\n",
    "These tables are used to quickly find animals of different genotypes"
   ]
  },
  {
   "cell_type": "code",
   "execution_count": null,
   "id": "aaefbfb7-5784-4535-966c-818b9a926e63",
   "metadata": {},
   "outputs": [],
   "source": [
    "# Add species\n",
    "species = [dict(species_name='mouse',\n",
    "                species_scientific_name='mus musculus'),\n",
    "            dict(species_name='rat',\n",
    "                species_scientific_name='rattus norvegicus')]\n",
    "# insert\n",
    "Species().insert(species, skip_duplicates=True)\n",
    "Species() # show the species\n",
    "\n",
    "# Insert Long Evans rats\n",
    "strains = [dict(strain_name = 'Long Evans',\n",
    "                species_name='rat',\n",
    "                strain_description='commonly used rat strain')]\n",
    "# Add Mice strains \n",
    "strains += [dict(strain_name = 'C57BL/6J',\n",
    "                species_name='mouse',\n",
    "                strain_description='general purpose and commonly used background strain'),\n",
    "           dict(strain_name = 'TRE-GCaMP6s;CaMKII-tTA',\n",
    "                species_name='mouse',\n",
    "                strain_description='GCamp6s on cortical excitatory neurons'),\n",
    "           dict(strain_name = 'PlexinD1-2A-CreER',\n",
    "                species_name='mouse',\n",
    "                strain_description='Cortico-striatal and cortico-cortical projection neurons'),\n",
    "           dict(strain_name = 'FezF2-2A-CreER',\n",
    "                species_name='mouse',\n",
    "                strain_description='Subcortical projection neurons'),\n",
    "           dict(strain_name = 'FezF2-2A-CreER;Ai162-TIT2L-GC6s-ICL-tTA2',\n",
    "                species_name='mouse',\n",
    "                strain_description='Gcamp6s on subcortical  projection neurons'),\n",
    "           dict(strain_name = 'Sst-ires-Flp;Ai65F-RCF-tdTomato',\n",
    "                species_name='mouse',\n",
    "                strain_description='Selective Labeling of SST interneurons with tdTomato'),\n",
    "           dict(strain_name = 'Sst-ires-Flp', \n",
    "                species_name='mouse',\n",
    "                strain_description='Selective expression of SST interneurons'),\n",
    "            dict(strain_name = 'Ai162-TIT2L-GC6s-ICL-tTA2', \n",
    "                species_name='mouse',\n",
    "                strain_description='GCaMP6s conditional on CRE'),\n",
    "           dict(strain_name = 'PlexinD1-2A-CreER;Ai162-tetO-GCaMP6s',\n",
    "                species_name='mouse',\n",
    "                strain_description='Labels cortico-striatal and cortico-cortical projection neurons with GCaMP6s'),\n",
    "          dict(strain_name = 'Ai75D-RCL-tdTom', \n",
    "                species_name='mouse',\n",
    "                strain_description='Nuclear-localized tdTomato fluorescence following Cre recombinase exposure'),\n",
    "          dict(strain_name = 'B6129SF1/J', \n",
    "                species_name='mouse',\n",
    "                strain_description='F1 hybrids from the cross of C57BL/6J females (B6) and 129S1/SvImJ males'),\n",
    "          dict(strain_name = 'B6FVBF1/J', \n",
    "                species_name='mouse',\n",
    "                strain_description='F1 hybrids from the cross of C57BL/6J females (B6J) with FVB/NJ males (FVB).'),\n",
    "          dict(strain_name = 'FezF2-2A-CreER;R26-LNL-GtACR1-Fred-Kv2.1',\n",
    "                species_name='mouse',\n",
    "                strain_description='Selective soma-targeted expression of the inhibitory opsin GtACR1 in FezF2 neurons (PT)'),\n",
    "          dict(strain_name = 'R26-LNL-GtACR1-Fred-Kv2.1',\n",
    "                species_name='mouse',\n",
    "                strain_description='CRE dependent soma-targeted expression of the inhibitory opsin GtACR1'),\n",
    "           ]\n",
    "Strain().insert(strains, skip_duplicates=True);\n",
    "Strain()"
   ]
  },
  {
   "cell_type": "markdown",
   "id": "50e2947a-ca9b-47b7-837f-d8cf82e74a8b",
   "metadata": {},
   "source": [
    "### Insert subjects"
   ]
  },
  {
   "cell_type": "code",
   "execution_count": null,
   "id": "a80c4f89-d094-4fe4-9b17-833584a7b02b",
   "metadata": {},
   "outputs": [],
   "source": [
    "micetoadd = [dict(subject_name = 'JC044',\n",
    "                  strain_name = 'C57BL/6J',\n",
    "                  subject_gender = 'M',\n",
    "                  subject_dob = '2021-01-21',\n",
    "                  user_name = 'couto'),\n",
    "             ]\n",
    "                   \n",
    "Subject().insert(micetoadd, skip_duplicates=True)\n",
    "Subject()"
   ]
  }
 ],
 "metadata": {
  "kernelspec": {
   "display_name": "Python 3 (ipykernel)",
   "language": "python",
   "name": "python3"
  },
  "language_info": {
   "codemirror_mode": {
    "name": "ipython",
    "version": 3
   },
   "file_extension": ".py",
   "mimetype": "text/x-python",
   "name": "python",
   "nbconvert_exporter": "python",
   "pygments_lexer": "ipython3",
   "version": "3.11.5"
  }
 },
 "nbformat": 4,
 "nbformat_minor": 5
}
